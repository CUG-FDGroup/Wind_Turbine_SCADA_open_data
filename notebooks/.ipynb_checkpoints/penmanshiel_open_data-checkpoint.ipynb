{
 "cells": [
  {
   "cell_type": "code",
   "execution_count": 1,
   "metadata": {},
   "outputs": [],
   "source": [
    "from helper_functions import *\n",
    "from community_plots import *\n",
    "\n",
    "%matplotlib notebook"
   ]
  },
  {
   "cell_type": "code",
   "execution_count": null,
   "metadata": {},
   "outputs": [
    {
     "name": "stdout",
     "output_type": "stream",
     "text": [
      "Loading SCADA signals...\n"
     ]
    }
   ],
   "source": [
    "data_path = f'../data/kelmarsh/'\n",
    "\n",
    "dct_scada = load_scada_data(data_path)\n",
    "dct_logs = load_scada_logs(data_path)\n",
    "dct_community = load_community_annotations(f'../communiy_annotations/kelmarsh_community_annotations.csv')"
   ]
  },
  {
   "cell_type": "code",
   "execution_count": null,
   "metadata": {},
   "outputs": [],
   "source": [
    "df_data_overview = generate_data_overview(dct_scada, dct_logs)"
   ]
  },
  {
   "cell_type": "code",
   "execution_count": null,
   "metadata": {
    "scrolled": false
   },
   "outputs": [],
   "source": [
    "for trb_id in list(dct_scada.keys()):\n",
    "    \n",
    "    # function for overview with power curve, wind rose and data availability chart\n",
    "    plot_overview_cockpit(data_path, dct_scada, df_data_overview, trb_id, freq_='10T')\n",
    "    \n",
    "    plot_summary(trb_id, df_data_overview.loc[trb_id])\n",
    "    \n",
    "    if trb_id in dct_community:\n",
    "        plot_community_annotations(dataset, dct_community[trb_id], dct_scada[trb_id], dct_logs[trb_id])\n"
   ]
  },
  {
   "cell_type": "code",
   "execution_count": null,
   "metadata": {},
   "outputs": [],
   "source": []
  },
  {
   "cell_type": "code",
   "execution_count": null,
   "metadata": {},
   "outputs": [],
   "source": []
  },
  {
   "cell_type": "code",
   "execution_count": null,
   "metadata": {},
   "outputs": [],
   "source": []
  }
 ],
 "metadata": {
  "kernelspec": {
   "display_name": "Python 3 (ipykernel)",
   "language": "python",
   "name": "python3"
  },
  "language_info": {
   "codemirror_mode": {
    "name": "ipython",
    "version": 3
   },
   "file_extension": ".py",
   "mimetype": "text/x-python",
   "name": "python",
   "nbconvert_exporter": "python",
   "pygments_lexer": "ipython3",
   "version": "3.9.7"
  }
 },
 "nbformat": 4,
 "nbformat_minor": 4
}
